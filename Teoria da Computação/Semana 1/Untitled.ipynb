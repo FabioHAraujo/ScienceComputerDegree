{
 "cells": [
  {
   "cell_type": "code",
   "execution_count": 5,
   "id": "bbaec872",
   "metadata": {},
   "outputs": [
    {
     "data": {
      "text/plain": [
       "2909751437680"
      ]
     },
     "execution_count": 5,
     "metadata": {},
     "output_type": "execute_result"
    }
   ],
   "source": [
    "a=2\n",
    "b=2\n",
    "c=3\n",
    "id(c)\n"
   ]
  },
  {
   "cell_type": "code",
   "execution_count": null,
   "id": "7d3f2f36",
   "metadata": {},
   "outputs": [],
   "source": []
  },
  {
   "cell_type": "code",
   "execution_count": null,
   "id": "d1144b2f",
   "metadata": {},
   "outputs": [],
   "source": []
  }
 ],
 "metadata": {
  "kernelspec": {
   "display_name": "Python 3 (ipykernel)",
   "language": "python",
   "name": "python3"
  },
  "language_info": {
   "codemirror_mode": {
    "name": "ipython",
    "version": 3
   },
   "file_extension": ".py",
   "mimetype": "text/x-python",
   "name": "python",
   "nbconvert_exporter": "python",
   "pygments_lexer": "ipython3",
   "version": "3.9.13"
  }
 },
 "nbformat": 4,
 "nbformat_minor": 5
}
